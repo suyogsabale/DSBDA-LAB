{
 "cells": [
  {
   "cell_type": "markdown",
   "id": "e48e0ed4",
   "metadata": {},
   "source": [
    "# Text Analytics\n",
    "1. Extract Sample document and apply following document preprocessing methods:\n",
    "Tokenization, POS Tagging, stop words removal, Stemming and Lemmatization.\n",
    "2. Create representation of document by calculating Term Frequency and Inverse Document\n",
    "Frequency."
   ]
  },
  {
   "cell_type": "code",
   "execution_count": 1,
   "id": "48061013",
   "metadata": {},
   "outputs": [],
   "source": [
    "import nltk"
   ]
  },
  {
   "cell_type": "code",
   "execution_count": 2,
   "id": "3289418b",
   "metadata": {},
   "outputs": [
    {
     "name": "stderr",
     "output_type": "stream",
     "text": [
      "[nltk_data] Downloading package punkt to\n",
      "[nltk_data]     C:\\Users\\suyog\\AppData\\Roaming\\nltk_data...\n",
      "[nltk_data]   Package punkt is already up-to-date!\n",
      "[nltk_data] Downloading package wordnet to\n",
      "[nltk_data]     C:\\Users\\suyog\\AppData\\Roaming\\nltk_data...\n",
      "[nltk_data]   Package wordnet is already up-to-date!\n",
      "[nltk_data] Downloading package stopwords to\n",
      "[nltk_data]     C:\\Users\\suyog\\AppData\\Roaming\\nltk_data...\n",
      "[nltk_data]   Package stopwords is already up-to-date!\n"
     ]
    },
    {
     "data": {
      "text/plain": [
       "True"
      ]
     },
     "execution_count": 2,
     "metadata": {},
     "output_type": "execute_result"
    }
   ],
   "source": [
    "nltk.download('punkt')\n",
    "nltk.download('wordnet')\n",
    "nltk.download('stopwords')"
   ]
  },
  {
   "cell_type": "code",
   "execution_count": 3,
   "id": "00bda3f8",
   "metadata": {},
   "outputs": [],
   "source": [
    "text='hi myself suyog and this is freind nihar . we both have one thing common, that is chutiya friend! This typically weired thing'"
   ]
  },
  {
   "cell_type": "code",
   "execution_count": 5,
   "id": "bfd8908b",
   "metadata": {},
   "outputs": [],
   "source": [
    "from nltk import sent_tokenize\n",
    "from nltk import word_tokenize"
   ]
  },
  {
   "cell_type": "code",
   "execution_count": 6,
   "id": "a9ab71b4",
   "metadata": {},
   "outputs": [],
   "source": [
    "st=sent_tokenize(text)"
   ]
  },
  {
   "cell_type": "code",
   "execution_count": 7,
   "id": "cde01e45",
   "metadata": {},
   "outputs": [
    {
     "data": {
      "text/plain": [
       "['hi myself suyog and this is freind nihar .',\n",
       " 'we both have one thing common, that is chutiya friend!',\n",
       " 'This typically weired thing']"
      ]
     },
     "execution_count": 7,
     "metadata": {},
     "output_type": "execute_result"
    }
   ],
   "source": [
    "st"
   ]
  },
  {
   "cell_type": "code",
   "execution_count": 8,
   "id": "310ca556",
   "metadata": {},
   "outputs": [],
   "source": [
    "wt=word_tokenize(text)"
   ]
  },
  {
   "cell_type": "code",
   "execution_count": 9,
   "id": "635d7f0e",
   "metadata": {},
   "outputs": [
    {
     "data": {
      "text/plain": [
       "['hi',\n",
       " 'myself',\n",
       " 'suyog',\n",
       " 'and',\n",
       " 'this',\n",
       " 'is',\n",
       " 'freind',\n",
       " 'nihar',\n",
       " '.',\n",
       " 'we',\n",
       " 'both',\n",
       " 'have',\n",
       " 'one',\n",
       " 'thing',\n",
       " 'common',\n",
       " ',',\n",
       " 'that',\n",
       " 'is',\n",
       " 'chutiya',\n",
       " 'friend',\n",
       " '!',\n",
       " 'This',\n",
       " 'typically',\n",
       " 'weired',\n",
       " 'thing']"
      ]
     },
     "execution_count": 9,
     "metadata": {},
     "output_type": "execute_result"
    }
   ],
   "source": [
    "wt"
   ]
  },
  {
   "cell_type": "code",
   "execution_count": 10,
   "id": "427e0449",
   "metadata": {},
   "outputs": [],
   "source": [
    "from nltk.corpus import stopwords"
   ]
  },
  {
   "cell_type": "code",
   "execution_count": 15,
   "id": "6954a0c5",
   "metadata": {},
   "outputs": [],
   "source": [
    "sw=set(stopwords.words('english'))"
   ]
  },
  {
   "cell_type": "code",
   "execution_count": 16,
   "id": "15a0193f",
   "metadata": {},
   "outputs": [],
   "source": [
    "newst=[word for word in wt if not word in sw]"
   ]
  },
  {
   "cell_type": "code",
   "execution_count": 17,
   "id": "d26240ef",
   "metadata": {},
   "outputs": [
    {
     "data": {
      "text/plain": [
       "['hi',\n",
       " 'suyog',\n",
       " 'freind',\n",
       " 'nihar',\n",
       " '.',\n",
       " 'one',\n",
       " 'thing',\n",
       " 'common',\n",
       " ',',\n",
       " 'chutiya',\n",
       " 'friend',\n",
       " '!',\n",
       " 'This',\n",
       " 'typically',\n",
       " 'weired',\n",
       " 'thing']"
      ]
     },
     "execution_count": 17,
     "metadata": {},
     "output_type": "execute_result"
    }
   ],
   "source": [
    "newst"
   ]
  },
  {
   "cell_type": "code",
   "execution_count": 19,
   "id": "53bf7b6d",
   "metadata": {},
   "outputs": [],
   "source": [
    "from nltk.stem.snowball import SnowballStemmer"
   ]
  },
  {
   "cell_type": "code",
   "execution_count": 20,
   "id": "3c09f6cb",
   "metadata": {},
   "outputs": [],
   "source": [
    "# required data/ vars\n",
    "text= 'we are taking this sentence only for sake of stemming example . As it should contain the words like loving , kicking, dumping ! '\n"
   ]
  },
  {
   "cell_type": "code",
   "execution_count": 21,
   "id": "9c85e11a",
   "metadata": {},
   "outputs": [],
   "source": [
    "wt=word_tokenize(text)"
   ]
  },
  {
   "cell_type": "code",
   "execution_count": 22,
   "id": "a803776e",
   "metadata": {},
   "outputs": [
    {
     "data": {
      "text/plain": [
       "['we',\n",
       " 'are',\n",
       " 'taking',\n",
       " 'this',\n",
       " 'sentence',\n",
       " 'only',\n",
       " 'for',\n",
       " 'sake',\n",
       " 'of',\n",
       " 'stemming',\n",
       " 'example',\n",
       " '.',\n",
       " 'As',\n",
       " 'it',\n",
       " 'should',\n",
       " 'contain',\n",
       " 'the',\n",
       " 'words',\n",
       " 'like',\n",
       " 'loving',\n",
       " ',',\n",
       " 'kicking',\n",
       " ',',\n",
       " 'dumping',\n",
       " '!']"
      ]
     },
     "execution_count": 22,
     "metadata": {},
     "output_type": "execute_result"
    }
   ],
   "source": [
    "wt"
   ]
  },
  {
   "cell_type": "code",
   "execution_count": 23,
   "id": "d4e85f9d",
   "metadata": {},
   "outputs": [],
   "source": [
    "sb=SnowballStemmer('english')"
   ]
  },
  {
   "cell_type": "code",
   "execution_count": 24,
   "id": "2fe75015",
   "metadata": {},
   "outputs": [],
   "source": [
    "res=[]"
   ]
  },
  {
   "cell_type": "code",
   "execution_count": 34,
   "id": "83c16f30",
   "metadata": {},
   "outputs": [],
   "source": [
    "for word in wt:\n",
    "    stemword=sb.stem(word)\n",
    "    if stemword.lower()!=word:\n",
    "        res.append((word,stemword))"
   ]
  },
  {
   "cell_type": "code",
   "execution_count": 35,
   "id": "bf39d125",
   "metadata": {},
   "outputs": [
    {
     "data": {
      "text/plain": [
       "[('taking', 'take'),\n",
       " ('sentence', 'sentenc'),\n",
       " ('only', 'onli'),\n",
       " ('stemming', 'stem'),\n",
       " ('example', 'exampl'),\n",
       " ('As', 'as'),\n",
       " ('words', 'word'),\n",
       " ('loving', 'love'),\n",
       " ('kicking', 'kick'),\n",
       " ('dumping', 'dump')]"
      ]
     },
     "execution_count": 35,
     "metadata": {},
     "output_type": "execute_result"
    }
   ],
   "source": [
    "res"
   ]
  },
  {
   "cell_type": "code",
   "execution_count": 36,
   "id": "88b3ac1f",
   "metadata": {},
   "outputs": [],
   "source": [
    "from nltk import WordNetLemmatizer"
   ]
  },
  {
   "cell_type": "code",
   "execution_count": 38,
   "id": "353bfa59",
   "metadata": {},
   "outputs": [],
   "source": [
    "lm=WordNetLemmatizer()"
   ]
  },
  {
   "cell_type": "code",
   "execution_count": 39,
   "id": "7459a5d2",
   "metadata": {},
   "outputs": [],
   "source": [
    "res2=[]"
   ]
  },
  {
   "cell_type": "code",
   "execution_count": 40,
   "id": "68368430",
   "metadata": {},
   "outputs": [],
   "source": [
    "for word in wt:\n",
    "    lw=lm.lemmatize(word)\n",
    "    if lw!=word.lower():\n",
    "        res2.append((lw,word))"
   ]
  },
  {
   "cell_type": "raw",
   "id": "d3b6cb66",
   "metadata": {},
   "source": []
  },
  {
   "cell_type": "code",
   "execution_count": null,
   "id": "9f5aaba4",
   "metadata": {},
   "outputs": [],
   "source": []
  },
  {
   "cell_type": "code",
   "execution_count": null,
   "id": "26208635",
   "metadata": {},
   "outputs": [],
   "source": []
  },
  {
   "cell_type": "markdown",
   "id": "b9d847a1",
   "metadata": {},
   "source": [
    "## "
   ]
  }
 ],
 "metadata": {
  "kernelspec": {
   "display_name": "Python 3 (ipykernel)",
   "language": "python",
   "name": "python3"
  },
  "language_info": {
   "codemirror_mode": {
    "name": "ipython",
    "version": 3
   },
   "file_extension": ".py",
   "mimetype": "text/x-python",
   "name": "python",
   "nbconvert_exporter": "python",
   "pygments_lexer": "ipython3",
   "version": "3.10.4"
  }
 },
 "nbformat": 4,
 "nbformat_minor": 5
}
