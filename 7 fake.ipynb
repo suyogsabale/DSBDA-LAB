{
 "cells": [
  {
   "cell_type": "markdown",
   "id": "557ac555",
   "metadata": {},
   "source": [
    "# Text Analytics\n",
    "1. Extract Sample document and apply following document preprocessing methods:\n",
    "Tokenization, POS Tagging, stop words removal, Stemming and Lemmatization.\n",
    "2. Create representation of document by calculating Term Frequency and Inverse Document\n",
    "Frequency."
   ]
  },
  {
   "cell_type": "code",
   "execution_count": 1,
   "id": "1dbf6220",
   "metadata": {},
   "outputs": [],
   "source": [
    "import nltk"
   ]
  },
  {
   "cell_type": "code",
   "execution_count": 2,
   "id": "a695aa15",
   "metadata": {},
   "outputs": [
    {
     "name": "stderr",
     "output_type": "stream",
     "text": [
      "[nltk_data] Downloading package punkt to\n",
      "[nltk_data]     C:\\Users\\suyog\\AppData\\Roaming\\nltk_data...\n",
      "[nltk_data]   Package punkt is already up-to-date!\n",
      "[nltk_data] Downloading package wordnet to\n",
      "[nltk_data]     C:\\Users\\suyog\\AppData\\Roaming\\nltk_data...\n",
      "[nltk_data]   Package wordnet is already up-to-date!\n",
      "[nltk_data] Downloading package stopwords to\n",
      "[nltk_data]     C:\\Users\\suyog\\AppData\\Roaming\\nltk_data...\n",
      "[nltk_data]   Package stopwords is already up-to-date!\n"
     ]
    },
    {
     "data": {
      "text/plain": [
       "True"
      ]
     },
     "execution_count": 2,
     "metadata": {},
     "output_type": "execute_result"
    }
   ],
   "source": [
    "nltk.download('punkt')\n",
    "nltk.download('wordnet')\n",
    "nltk.download('stopwords')"
   ]
  },
  {
   "cell_type": "code",
   "execution_count": 3,
   "id": "e6a0460b",
   "metadata": {},
   "outputs": [],
   "source": [
    "text='hi myself suyog and this is freind nihar . we both have one thing common, that is chutiya friend! This typically weired thing'"
   ]
  },
  {
   "cell_type": "code",
   "execution_count": 5,
   "id": "e8eee28b",
   "metadata": {},
   "outputs": [],
   "source": [
    "from nltk import sent_tokenize\n",
    "from nltk import word_tokenize"
   ]
  },
  {
   "cell_type": "code",
   "execution_count": 6,
   "id": "73339043",
   "metadata": {},
   "outputs": [],
   "source": [
    "st=sent_tokenize(text)"
   ]
  },
  {
   "cell_type": "code",
   "execution_count": 7,
   "id": "59343cd5",
   "metadata": {},
   "outputs": [
    {
     "data": {
      "text/plain": [
       "['hi myself suyog and this is freind nihar .',\n",
       " 'we both have one thing common, that is chutiya friend!',\n",
       " 'This typically weired thing']"
      ]
     },
     "execution_count": 7,
     "metadata": {},
     "output_type": "execute_result"
    }
   ],
   "source": [
    "st"
   ]
  },
  {
   "cell_type": "code",
   "execution_count": 8,
   "id": "35603684",
   "metadata": {},
   "outputs": [],
   "source": [
    "wt=word_tokenize(text)"
   ]
  },
  {
   "cell_type": "code",
   "execution_count": 9,
   "id": "08a2085a",
   "metadata": {},
   "outputs": [
    {
     "data": {
      "text/plain": [
       "['hi',\n",
       " 'myself',\n",
       " 'suyog',\n",
       " 'and',\n",
       " 'this',\n",
       " 'is',\n",
       " 'freind',\n",
       " 'nihar',\n",
       " '.',\n",
       " 'we',\n",
       " 'both',\n",
       " 'have',\n",
       " 'one',\n",
       " 'thing',\n",
       " 'common',\n",
       " ',',\n",
       " 'that',\n",
       " 'is',\n",
       " 'chutiya',\n",
       " 'friend',\n",
       " '!',\n",
       " 'This',\n",
       " 'typically',\n",
       " 'weired',\n",
       " 'thing']"
      ]
     },
     "execution_count": 9,
     "metadata": {},
     "output_type": "execute_result"
    }
   ],
   "source": [
    "wt"
   ]
  },
  {
   "cell_type": "code",
   "execution_count": 10,
   "id": "8e9d46dc",
   "metadata": {},
   "outputs": [],
   "source": [
    "from nltk.corpus import stopwords"
   ]
  },
  {
   "cell_type": "code",
   "execution_count": 15,
   "id": "88165b1f",
   "metadata": {},
   "outputs": [],
   "source": [
    "sw=set(stopwords.words('english'))"
   ]
  },
  {
   "cell_type": "code",
   "execution_count": 16,
   "id": "28cd13fe",
   "metadata": {},
   "outputs": [],
   "source": [
    "newst=[word for word in wt if not word in sw]"
   ]
  },
  {
   "cell_type": "code",
   "execution_count": 17,
   "id": "e8784258",
   "metadata": {},
   "outputs": [
    {
     "data": {
      "text/plain": [
       "['hi',\n",
       " 'suyog',\n",
       " 'freind',\n",
       " 'nihar',\n",
       " '.',\n",
       " 'one',\n",
       " 'thing',\n",
       " 'common',\n",
       " ',',\n",
       " 'chutiya',\n",
       " 'friend',\n",
       " '!',\n",
       " 'This',\n",
       " 'typically',\n",
       " 'weired',\n",
       " 'thing']"
      ]
     },
     "execution_count": 17,
     "metadata": {},
     "output_type": "execute_result"
    }
   ],
   "source": [
    "newst"
   ]
  },
  {
   "cell_type": "code",
   "execution_count": 19,
   "id": "175418e2",
   "metadata": {},
   "outputs": [],
   "source": [
    "from nltk.stem.snowball import SnowballStemmer"
   ]
  },
  {
   "cell_type": "code",
   "execution_count": 20,
   "id": "bee0fbb5",
   "metadata": {},
   "outputs": [],
   "source": [
    "# required data/ vars\n",
    "text= 'we are taking this sentence only for sake of stemming example . As it should contain the words like loving , kicking, dumping ! '\n"
   ]
  },
  {
   "cell_type": "code",
   "execution_count": 21,
   "id": "43d48d68",
   "metadata": {},
   "outputs": [],
   "source": [
    "wt=word_tokenize(text)"
   ]
  },
  {
   "cell_type": "code",
   "execution_count": 22,
   "id": "2e2d92e0",
   "metadata": {},
   "outputs": [
    {
     "data": {
      "text/plain": [
       "['we',\n",
       " 'are',\n",
       " 'taking',\n",
       " 'this',\n",
       " 'sentence',\n",
       " 'only',\n",
       " 'for',\n",
       " 'sake',\n",
       " 'of',\n",
       " 'stemming',\n",
       " 'example',\n",
       " '.',\n",
       " 'As',\n",
       " 'it',\n",
       " 'should',\n",
       " 'contain',\n",
       " 'the',\n",
       " 'words',\n",
       " 'like',\n",
       " 'loving',\n",
       " ',',\n",
       " 'kicking',\n",
       " ',',\n",
       " 'dumping',\n",
       " '!']"
      ]
     },
     "execution_count": 22,
     "metadata": {},
     "output_type": "execute_result"
    }
   ],
   "source": [
    "wt"
   ]
  },
  {
   "cell_type": "code",
   "execution_count": 23,
   "id": "5a63d9c0",
   "metadata": {},
   "outputs": [],
   "source": [
    "sb=SnowballStemmer('english')"
   ]
  },
  {
   "cell_type": "code",
   "execution_count": 24,
   "id": "968f2099",
   "metadata": {},
   "outputs": [],
   "source": [
    "res=[]"
   ]
  },
  {
   "cell_type": "code",
   "execution_count": 34,
   "id": "29fc25ed",
   "metadata": {},
   "outputs": [],
   "source": [
    "for word in wt:\n",
    "    stemword=sb.stem(word)\n",
    "    if stemword.lower()!=word:\n",
    "        res.append((word,stemword))"
   ]
  },
  {
   "cell_type": "code",
   "execution_count": 35,
   "id": "0b144efb",
   "metadata": {},
   "outputs": [
    {
     "data": {
      "text/plain": [
       "[('taking', 'take'),\n",
       " ('sentence', 'sentenc'),\n",
       " ('only', 'onli'),\n",
       " ('stemming', 'stem'),\n",
       " ('example', 'exampl'),\n",
       " ('As', 'as'),\n",
       " ('words', 'word'),\n",
       " ('loving', 'love'),\n",
       " ('kicking', 'kick'),\n",
       " ('dumping', 'dump')]"
      ]
     },
     "execution_count": 35,
     "metadata": {},
     "output_type": "execute_result"
    }
   ],
   "source": [
    "res"
   ]
  },
  {
   "cell_type": "code",
   "execution_count": 36,
   "id": "d8213502",
   "metadata": {},
   "outputs": [],
   "source": [
    "from nltk import WordNetLemmatizer"
   ]
  },
  {
   "cell_type": "code",
   "execution_count": 38,
   "id": "d3e6e7b8",
   "metadata": {},
   "outputs": [],
   "source": [
    "lm=WordNetLemmatizer()"
   ]
  },
  {
   "cell_type": "code",
   "execution_count": 44,
   "id": "fa8ba62b",
   "metadata": {},
   "outputs": [],
   "source": [
    "res2=[]"
   ]
  },
  {
   "cell_type": "code",
   "execution_count": 45,
   "id": "0c7e5450",
   "metadata": {},
   "outputs": [],
   "source": [
    "for word in wt:\n",
    "    lw=lm.lemmatize(word)\n",
    "    if lw!=word:\n",
    "        res2.append((lw,word))"
   ]
  },
  {
   "cell_type": "markdown",
   "id": "ca230b61",
   "metadata": {},
   "source": [
    "## "
   ]
  },
  {
   "cell_type": "code",
   "execution_count": 46,
   "id": "6e43517a",
   "metadata": {},
   "outputs": [
    {
     "data": {
      "text/plain": [
       "[('word', 'words')]"
      ]
     },
     "execution_count": 46,
     "metadata": {},
     "output_type": "execute_result"
    }
   ],
   "source": [
    "res2"
   ]
  },
  {
   "cell_type": "code",
   "execution_count": 48,
   "id": "72e68e69",
   "metadata": {},
   "outputs": [],
   "source": [
    "import textblob"
   ]
  },
  {
   "cell_type": "code",
   "execution_count": 49,
   "id": "03220bd3",
   "metadata": {},
   "outputs": [],
   "source": [
    "from textblob import TextBlob\n"
   ]
  },
  {
   "cell_type": "code",
   "execution_count": 53,
   "id": "60bc6c1d",
   "metadata": {},
   "outputs": [
    {
     "data": {
      "text/plain": [
       "[('we', 'PRP'),\n",
       " ('are', 'VBP'),\n",
       " ('taking', 'VBG'),\n",
       " ('this', 'DT'),\n",
       " ('sentence', 'NN'),\n",
       " ('only', 'RB'),\n",
       " ('for', 'IN'),\n",
       " ('sake', 'NN'),\n",
       " ('of', 'IN'),\n",
       " ('stemming', 'VBG'),\n",
       " ('example', 'NN'),\n",
       " ('As', 'IN'),\n",
       " ('it', 'PRP'),\n",
       " ('should', 'MD'),\n",
       " ('contain', 'VB'),\n",
       " ('the', 'DT'),\n",
       " ('words', 'NNS'),\n",
       " ('like', 'IN'),\n",
       " ('loving', 'NN'),\n",
       " ('kicking', 'NN'),\n",
       " ('dumping', 'VBG')]"
      ]
     },
     "execution_count": 53,
     "metadata": {},
     "output_type": "execute_result"
    }
   ],
   "source": [
    "TextBlob(text).tags"
   ]
  },
  {
   "cell_type": "code",
   "execution_count": 57,
   "id": "5aeb1528",
   "metadata": {},
   "outputs": [],
   "source": [
    "from sklearn.feature_extraction.text import TfidfVectorizer"
   ]
  },
  {
   "cell_type": "code",
   "execution_count": 58,
   "id": "f38dba6e",
   "metadata": {},
   "outputs": [],
   "source": [
    "vect=TfidfVectorizer()"
   ]
  },
  {
   "cell_type": "code",
   "execution_count": 59,
   "id": "986ba5c6",
   "metadata": {},
   "outputs": [],
   "source": [
    "documents = [\n",
    "    \"Jupyter is the largest planet\",\n",
    "    \"Mars is the fourth planet from the sun\",\n",
    "]"
   ]
  },
  {
   "cell_type": "code",
   "execution_count": 60,
   "id": "b734b473",
   "metadata": {},
   "outputs": [],
   "source": [
    "tf_mat=vect.fit_transform(documents)"
   ]
  },
  {
   "cell_type": "code",
   "execution_count": 62,
   "id": "da38216b",
   "metadata": {},
   "outputs": [
    {
     "name": "stdout",
     "output_type": "stream",
     "text": [
      "  (0, 6)\t0.3793034928087496\n",
      "  (0, 4)\t0.5330978245262535\n",
      "  (0, 8)\t0.3793034928087496\n",
      "  (0, 2)\t0.3793034928087496\n",
      "  (0, 3)\t0.5330978245262535\n",
      "  (1, 7)\t0.37695708675831013\n",
      "  (1, 1)\t0.37695708675831013\n",
      "  (1, 0)\t0.37695708675831013\n",
      "  (1, 5)\t0.37695708675831013\n",
      "  (1, 6)\t0.2682080718928097\n",
      "  (1, 8)\t0.5364161437856194\n",
      "  (1, 2)\t0.2682080718928097\n"
     ]
    }
   ],
   "source": [
    "print(tf_mat)"
   ]
  },
  {
   "cell_type": "code",
   "execution_count": 64,
   "id": "0f62a875",
   "metadata": {},
   "outputs": [],
   "source": [
    "fnames=vect.get_feature_names()"
   ]
  },
  {
   "cell_type": "code",
   "execution_count": 65,
   "id": "af49edc7",
   "metadata": {},
   "outputs": [
    {
     "data": {
      "text/plain": [
       "['fourth', 'from', 'is', 'jupyter', 'largest', 'mars', 'planet', 'sun', 'the']"
      ]
     },
     "execution_count": 65,
     "metadata": {},
     "output_type": "execute_result"
    }
   ],
   "source": [
    "fnames"
   ]
  },
  {
   "cell_type": "code",
   "execution_count": 72,
   "id": "95a7ff72",
   "metadata": {},
   "outputs": [
    {
     "name": "stdout",
     "output_type": "stream",
     "text": [
      "Doc No :-  1\n",
      "fourth : 0.0\n",
      "from : 0.0\n",
      "is : 0.3793034928087496\n",
      "jupyter : 0.5330978245262535\n",
      "largest : 0.5330978245262535\n",
      "mars : 0.0\n",
      "planet : 0.3793034928087496\n",
      "sun : 0.0\n",
      "the : 0.3793034928087496\n",
      "\n",
      "Doc No :-  2\n",
      "fourth : 0.37695708675831013\n",
      "from : 0.37695708675831013\n",
      "is : 0.2682080718928097\n",
      "jupyter : 0.0\n",
      "largest : 0.0\n",
      "mars : 0.37695708675831013\n",
      "planet : 0.2682080718928097\n",
      "sun : 0.37695708675831013\n",
      "the : 0.5364161437856194\n",
      "\n"
     ]
    }
   ],
   "source": [
    "for i in range(len(documents)):\n",
    "    print(\"Doc No :- \",i+1)\n",
    "    for j in range(len(fnames)):\n",
    "        print(fnames[j],\":\",tf_mat[i,j])\n",
    "    print()"
   ]
  },
  {
   "cell_type": "code",
   "execution_count": null,
   "id": "04fcd1d8",
   "metadata": {},
   "outputs": [],
   "source": []
  }
 ],
 "metadata": {
  "kernelspec": {
   "display_name": "Python 3 (ipykernel)",
   "language": "python",
   "name": "python3"
  },
  "language_info": {
   "codemirror_mode": {
    "name": "ipython",
    "version": 3
   },
   "file_extension": ".py",
   "mimetype": "text/x-python",
   "name": "python",
   "nbconvert_exporter": "python",
   "pygments_lexer": "ipython3",
   "version": "3.10.4"
  }
 },
 "nbformat": 4,
 "nbformat_minor": 5
}
